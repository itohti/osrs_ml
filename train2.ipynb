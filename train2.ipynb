{
 "cells": [
  {
   "cell_type": "code",
   "execution_count": 1,
   "id": "69e09e38",
   "metadata": {},
   "outputs": [],
   "source": [
    "%reload_ext autoreload"
   ]
  },
  {
   "cell_type": "code",
   "execution_count": 2,
   "id": "a906e7f5",
   "metadata": {},
   "outputs": [],
   "source": [
    "import pandas as pd\n",
    "import data_loader\n",
    "import preprocess\n",
    "\n",
    "# users, tasks = data_loader.get_data()\n",
    "users = pd.read_csv(\"./saved_data/users.csv\")\n",
    "tasks = pd.read_csv(\"./saved_data/tasks.csv\")\n",
    "merged_df = preprocess.preprocess(users, tasks)"
   ]
  },
  {
   "cell_type": "code",
   "execution_count": 3,
   "id": "827089f7",
   "metadata": {},
   "outputs": [
    {
     "ename": "AttributeError",
     "evalue": "'NoneType' object has no attribute 'loc'",
     "output_type": "error",
     "traceback": [
      "\u001b[31m---------------------------------------------------------------------------\u001b[39m",
      "\u001b[31mAttributeError\u001b[39m                            Traceback (most recent call last)",
      "\u001b[36mCell\u001b[39m\u001b[36m \u001b[39m\u001b[32mIn[3]\u001b[39m\u001b[32m, line 3\u001b[39m\n\u001b[32m      1\u001b[39m \u001b[38;5;28;01mimport\u001b[39;00m\u001b[38;5;250m \u001b[39m\u001b[34;01mtrain\u001b[39;00m\n\u001b[32m      2\u001b[39m \u001b[38;5;28;01mimport\u001b[39;00m\u001b[38;5;250m \u001b[39m\u001b[34;01mrecommender\u001b[39;00m\n\u001b[32m----> \u001b[39m\u001b[32m3\u001b[39m featured_merged_df = \u001b[43mpreprocess\u001b[49m\u001b[43m.\u001b[49m\u001b[43mfeature_engineering\u001b[49m\u001b[43m(\u001b[49m\u001b[43mmerged_df\u001b[49m\u001b[43m)\u001b[49m\n\u001b[32m      4\u001b[39m lgbm_df = pd.get_dummies(featured_merged_df, columns=[\u001b[33m\"\u001b[39m\u001b[33mtask_name\u001b[39m\u001b[33m\"\u001b[39m, \u001b[33m\"\u001b[39m\u001b[33mtype\u001b[39m\u001b[33m\"\u001b[39m]).copy()\n\u001b[32m      5\u001b[39m lgbm_df.columns = lgbm_df.columns.str.replace(\u001b[33m'\u001b[39m\u001b[33m[^A-Za-z0-9_]+\u001b[39m\u001b[33m'\u001b[39m, \u001b[33m'\u001b[39m\u001b[33m_\u001b[39m\u001b[33m'\u001b[39m, regex=\u001b[38;5;28;01mTrue\u001b[39;00m)\n",
      "\u001b[36mFile \u001b[39m\u001b[32mc:\\Users\\Izdar\\Desktop\\Projects\\osrs_ml\\preprocess.py:31\u001b[39m, in \u001b[36mfeature_engineering\u001b[39m\u001b[34m(merged_df)\u001b[39m\n\u001b[32m     29\u001b[39m \u001b[38;5;28;01mdef\u001b[39;00m\u001b[38;5;250m \u001b[39m\u001b[34mfeature_engineering\u001b[39m(merged_df):\n\u001b[32m     30\u001b[39m     \u001b[38;5;66;03m# kills remaining feature\u001b[39;00m\n\u001b[32m---> \u001b[39m\u001b[32m31\u001b[39m     merged_df = \u001b[43mkills_feature\u001b[49m\u001b[43m(\u001b[49m\u001b[43mmerged_df\u001b[49m\u001b[43m)\u001b[49m\n\u001b[32m     32\u001b[39m     merged_df = speed_feature(merged_df)\n\u001b[32m     33\u001b[39m     merged_df = perfect_mechanical_stamina_feature(merged_df)\n",
      "\u001b[36mFile \u001b[39m\u001b[32mc:\\Users\\Izdar\\Desktop\\Projects\\osrs_ml\\preprocess.py:138\u001b[39m, in \u001b[36mkills_feature\u001b[39m\u001b[34m(merged_df)\u001b[39m\n\u001b[32m    137\u001b[39m \u001b[38;5;28;01mdef\u001b[39;00m\u001b[38;5;250m \u001b[39m\u001b[34mkills_feature\u001b[39m(merged_df):\n\u001b[32m--> \u001b[39m\u001b[32m138\u001b[39m     kill_counts_tasks = \u001b[43mmerged_df\u001b[49m\u001b[43m.\u001b[49m\u001b[43mloc\u001b[49m[merged_df[\u001b[33m\"\u001b[39m\u001b[33mtype\u001b[39m\u001b[33m\"\u001b[39m] == \u001b[33m\"\u001b[39m\u001b[33mKill Count\u001b[39m\u001b[33m\"\u001b[39m]\n\u001b[32m    140\u001b[39m     kill_counts_description = \u001b[38;5;28mdict\u001b[39m(\u001b[38;5;28mzip\u001b[39m(kill_counts_tasks[\u001b[33m\"\u001b[39m\u001b[33mtask_name\u001b[39m\u001b[33m\"\u001b[39m], kill_counts_tasks[\u001b[33m\"\u001b[39m\u001b[33mdescription\u001b[39m\u001b[33m\"\u001b[39m]))\n\u001b[32m    142\u001b[39m     \u001b[38;5;28;01mdef\u001b[39;00m\u001b[38;5;250m \u001b[39m\u001b[34mcompute_kills_remaining\u001b[39m(row):\n",
      "\u001b[31mAttributeError\u001b[39m: 'NoneType' object has no attribute 'loc'"
     ]
    }
   ],
   "source": [
    "import train\n",
    "import recommender\n",
    "featured_merged_df = preprocess.feature_engineering(merged_df)\n",
    "lgbm_df = pd.get_dummies(featured_merged_df, columns=[\"task_name\", \"type\"]).copy()\n",
    "lgbm_df.columns = lgbm_df.columns.str.replace('[^A-Za-z0-9_]+', '_', regex=True)\n",
    "recommended_tasks = recommender.recommend_tasks(\"Him-alayan\", 1014, lgbm_df, featured_merged_df)"
   ]
  }
 ],
 "metadata": {
  "kernelspec": {
   "display_name": "Python 3",
   "language": "python",
   "name": "python3"
  },
  "language_info": {
   "codemirror_mode": {
    "name": "ipython",
    "version": 3
   },
   "file_extension": ".py",
   "mimetype": "text/x-python",
   "name": "python",
   "nbconvert_exporter": "python",
   "pygments_lexer": "ipython3",
   "version": "3.13.2"
  }
 },
 "nbformat": 4,
 "nbformat_minor": 5
}
