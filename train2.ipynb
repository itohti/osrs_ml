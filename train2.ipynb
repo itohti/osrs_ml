{
 "cells": [
  {
   "cell_type": "code",
   "execution_count": 1,
   "id": "69e09e38",
   "metadata": {},
   "outputs": [],
   "source": [
    "%reload_ext autoreload"
   ]
  },
  {
   "cell_type": "code",
   "execution_count": 2,
   "id": "a906e7f5",
   "metadata": {},
   "outputs": [],
   "source": [
    "import pandas as pd\n",
    "from src import preprocess\n",
    "\n",
    "users = pd.read_csv('./saved_data/users.csv')\n",
    "tasks = pd.read_csv('./saved_data/tasks.csv')\n",
    "preprocess.preprocess(users, tasks)"
   ]
  },
  {
   "cell_type": "code",
   "execution_count": 3,
   "id": "827089f7",
   "metadata": {},
   "outputs": [
    {
     "name": "stdout",
     "output_type": "stream",
     "text": [
      "Hello\n"
     ]
    }
   ],
   "source": [
    "from src import train\n",
    "featured_df = pd.read_csv(\"./saved_data/featured_merged_df.csv\")\n",
    "df = train.recommend_tasks_by_score(\"Him-alayan\", 1014)"
   ]
  }
 ],
 "metadata": {
  "kernelspec": {
   "display_name": "Python 3",
   "language": "python",
   "name": "python3"
  },
  "language_info": {
   "codemirror_mode": {
    "name": "ipython",
    "version": 3
   },
   "file_extension": ".py",
   "mimetype": "text/x-python",
   "name": "python",
   "nbconvert_exporter": "python",
   "pygments_lexer": "ipython3",
   "version": "3.13.2"
  }
 },
 "nbformat": 4,
 "nbformat_minor": 5
}
