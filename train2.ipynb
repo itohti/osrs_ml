{
 "cells": [
  {
   "cell_type": "code",
   "execution_count": 1,
   "id": "69e09e38",
   "metadata": {},
   "outputs": [],
   "source": [
    "%reload_ext autoreload"
   ]
  },
  {
   "cell_type": "code",
   "execution_count": 2,
   "id": "a906e7f5",
   "metadata": {},
   "outputs": [],
   "source": [
    "import pandas as pd\n",
    "from src import preprocess\n",
    "\n",
    "users = pd.read_csv('./saved_data/users.csv')\n",
    "tasks = pd.read_csv('./saved_data/tasks.csv')\n",
    "preprocess.preprocess(users, tasks)"
   ]
  },
  {
   "cell_type": "code",
   "execution_count": null,
   "id": "827089f7",
   "metadata": {},
   "outputs": [
    {
     "name": "stdout",
     "output_type": "stream",
     "text": [
      "              precision    recall  f1-score   support\n",
      "\n",
      "           0       0.84      0.94      0.89       267\n",
      "           1       0.75      0.49      0.60        93\n",
      "\n",
      "    accuracy                           0.83       360\n",
      "   macro avg       0.80      0.72      0.74       360\n",
      "weighted avg       0.82      0.83      0.81       360\n",
      "\n",
      "attack: -0.1574\n",
      "defence: 0.0138\n",
      "strength: -0.0172\n",
      "hitpoints: 0.0873\n",
      "ranged: 0.0524\n",
      "magic: -0.0520\n",
      "prayer: 0.0696\n",
      "tier: -0.2692\n",
      "comp: 5.5438\n",
      "readiness: 0.2030\n",
      "ehb: 0.0182\n",
      "boss_kc: 0.0012\n"
     ]
    }
   ],
   "source": [
    "from src import train\n",
    "df = pd.read_csv(\"./saved_data/merged_df.csv\")\n",
    "train.classification_model()\n",
    "featured_df = pd.read_csv(\"./saved_data/featured_merged_df.csv\")\n",
    "recommended_tasks = train.recommend_tasks_by_score(\"Him-alayan\", 1014)"
   ]
  }
 ],
 "metadata": {
  "kernelspec": {
   "display_name": "Python 3",
   "language": "python",
   "name": "python3"
  },
  "language_info": {
   "codemirror_mode": {
    "name": "ipython",
    "version": 3
   },
   "file_extension": ".py",
   "mimetype": "text/x-python",
   "name": "python",
   "nbconvert_exporter": "python",
   "pygments_lexer": "ipython3",
   "version": "3.13.2"
  }
 },
 "nbformat": 4,
 "nbformat_minor": 5
}
