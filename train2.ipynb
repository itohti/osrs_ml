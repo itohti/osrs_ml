{
 "cells": [
  {
   "cell_type": "code",
   "execution_count": 1,
   "id": "69e09e38",
   "metadata": {},
   "outputs": [],
   "source": [
    "%reload_ext autoreload"
   ]
  },
  {
   "cell_type": "code",
   "execution_count": 2,
   "id": "a906e7f5",
   "metadata": {},
   "outputs": [
    {
     "name": "stdout",
     "output_type": "stream",
     "text": [
      "hello\n"
     ]
    }
   ],
   "source": [
    "import pandas as pd\n",
    "from src import preprocess\n",
    "\n",
    "users = pd.read_csv('./saved_data/users.csv')\n",
    "tasks = pd.read_csv('./saved_data/tasks.csv')\n",
    "preprocess.preprocess(users, tasks)"
   ]
  },
  {
   "cell_type": "code",
   "execution_count": 3,
   "id": "827089f7",
   "metadata": {},
   "outputs": [
    {
     "name": "stdout",
     "output_type": "stream",
     "text": [
      "              precision    recall  f1-score   support\n",
      "\n",
      "           0       0.83      0.93      0.88       261\n",
      "           1       0.73      0.49      0.59        99\n",
      "\n",
      "    accuracy                           0.81       360\n",
      "   macro avg       0.78      0.71      0.73       360\n",
      "weighted avg       0.80      0.81      0.80       360\n",
      "\n",
      "attack: -0.1824\n",
      "defence: 0.0314\n",
      "strength: -0.0237\n",
      "hitpoints: 0.0981\n",
      "ranged: 0.0575\n",
      "magic: -0.0642\n",
      "prayer: 0.0829\n",
      "tier: -0.2922\n",
      "comp: 5.4779\n",
      "readiness: 0.2315\n",
      "ehb: 0.0172\n",
      "boss_kc: 0.0013\n"
     ]
    }
   ],
   "source": [
    "from src import train\n",
    "df = pd.read_csv(\"./saved_data/merged_df.csv\")\n",
    "train.classification_model()\n",
    "featured_df = pd.read_csv(\"./saved_data/featured_merged_df.csv\")\n",
    "recommended_tasks = train.recommend_tasks_by_score(\"Him-alayan\", 1014)"
   ]
  }
 ],
 "metadata": {
  "kernelspec": {
   "display_name": "Python 3",
   "language": "python",
   "name": "python3"
  },
  "language_info": {
   "codemirror_mode": {
    "name": "ipython",
    "version": 3
   },
   "file_extension": ".py",
   "mimetype": "text/x-python",
   "name": "python",
   "nbconvert_exporter": "python",
   "pygments_lexer": "ipython3",
   "version": "3.13.2"
  }
 },
 "nbformat": 4,
 "nbformat_minor": 5
}
